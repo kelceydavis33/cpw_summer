{
 "cells": [
  {
   "cell_type": "code",
   "execution_count": 1,
   "id": "51db2c9a",
   "metadata": {},
   "outputs": [
    {
     "name": "stderr",
     "output_type": "stream",
     "text": [
      "/home/kelcey/anaconda3/envs/hera/lib/python3.9/site-packages/pandas/core/computation/expressions.py:21: UserWarning: Pandas requires version '2.8.4' or newer of 'numexpr' (version '2.7.3' currently installed).\n",
      "  from pandas.core.computation.check import NUMEXPR_INSTALLED\n",
      "/home/kelcey/anaconda3/envs/hera/lib/python3.9/site-packages/pandas/core/arrays/masked.py:60: UserWarning: Pandas requires version '1.3.6' or newer of 'bottleneck' (version '1.3.2' currently installed).\n",
      "  from pandas.core import (\n"
     ]
    }
   ],
   "source": [
    "%load_ext autoreload\n",
    "%autoreload 2\n",
    "\n",
    "import sys\n",
    "\n",
    "#Load up Kelcey's personal functions\n",
    "sys.path.insert(0, \"/home/kelcey/eelg_properties/python_files\")\n",
    "from func import *\n",
    "\n",
    "#Imports from code I did not write\n",
    "import astropy.units as u\n",
    "import astropy.constants as c\n",
    "from astropy.coordinates import SkyCoord, search_around_sky\n",
    "from astropy.time import Time\n",
    "import numpy as np\n",
    "from scipy import stats\n",
    "import matplotlib.pyplot as plt\n",
    "import pandas as pd\n",
    "import glob\n",
    "%matplotlib inline\n",
    "from astropy.io import fits\n",
    "from itertools import combinations\n",
    "import pickle\n",
    "from astropy.cosmology import WMAP9 as cosmo\n",
    "import seaborn as sns\n",
    "from astropy.table import Table\n",
    "\n",
    "\n",
    "#Setting up matplotlib and format it\n",
    "plt.rcParams['figure.figsize'] = (10, 10)\n",
    "plt.rc('axes', labelsize=27)\n",
    "#plt.rc('axes', labelweight='bold')\n",
    "plt.rc('axes', titlesize=27)\n",
    "plt.rc('axes', titleweight='bold')\n",
    "plt.rc('font', family='sans-serif')\n",
    "plt.rcParams.update({'font.size': 20})"
   ]
  },
  {
   "cell_type": "markdown",
   "id": "05cc8911",
   "metadata": {},
   "source": [
    "# 6/10: Shock\n",
    "\n",
    "- LA 1940: begining of nin-linear science\n",
    "\n",
    "- fermi's \"little problem\": connected springs with hooks law+ non-linear pertubation, should equipartition, fermi was expert in pertubation theory\n",
    "\n",
    "- instead of partitioning waves, solitons, Fermi's little problem turned in to Fermi's little dilema\n",
    "\n",
    "- see collected works of Fermi\n",
    "\n",
    "- Van Neuman: smartest guy ever? invented com[ilers\n",
    "\n",
    "\n",
    "## Shocks\n",
    "\n",
    "- Len Margolin (xcp5)\n",
    "\n",
    "- len@lanl.gov\n",
    "\n",
    "- shocK: wave moving faster than sound speed in a material, changes in density, temp, pressues\n",
    "\n",
    "- mathematical shocks: shocks have no profile, they are truly discontinuous. Makes equations to solve a lot simpler. Navier-stokes equations are easier to solve like this, but simplifies the scales.\n",
    "\n",
    "- equations without length scales are unphysical. almost all euler solutions like this are unphysical, need an infinitesimal dispation to manage the viscosity.\n",
    "\n",
    "- shock widths are on the order of microns, mu is not constant and depends weakly on temperature\n",
    "\n",
    "- lagrangian meshes are used mostly in shock stuff instead of eulerian, but lagrangian meshes are prone to tangling \n",
    "\n",
    " - Boltzman equations: more fundamental description of fluid, Navier-Stokes equations are derived approximationz of Boltzman equations\n",
    " \n",
    " - energy conservation: go on faith, if energy is not conserved we modify our equations. Helmholtz 1847: published the conservation of energy, Meyer and Jul were doing similar work at the time. In England Joule is credited. \n",
    " \n",
    " - William Rankine: 1870, made a major discovery then died in a war\n",
    " \n",
    " - DSMC simulations can get up to 10^12 particales (at Sandia), direct simulation monte carlo\n",
    " \n",
    " - must read: A ethod for the numerical calculation of hydrodynaics shocks by von Neumann and Richtmyer. \n",
    " \n",
    " - it's Richtmyer's viscosity!!"
   ]
  },
  {
   "cell_type": "markdown",
   "id": "7fcf3e00",
   "metadata": {},
   "source": []
  },
  {
   "cell_type": "markdown",
   "id": "3eb4d08a",
   "metadata": {},
   "source": []
  }
 ],
 "metadata": {
  "kernelspec": {
   "display_name": "Python 3",
   "language": "python",
   "name": "python3"
  },
  "language_info": {
   "codemirror_mode": {
    "name": "ipython",
    "version": 3
   },
   "file_extension": ".py",
   "mimetype": "text/x-python",
   "name": "python",
   "nbconvert_exporter": "python",
   "pygments_lexer": "ipython3",
   "version": "3.9.6"
  }
 },
 "nbformat": 4,
 "nbformat_minor": 5
}
