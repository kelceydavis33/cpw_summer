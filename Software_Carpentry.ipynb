{
 "cells": [
  {
   "cell_type": "code",
   "execution_count": 1,
   "id": "51db2c9a",
   "metadata": {},
   "outputs": [
    {
     "name": "stderr",
     "output_type": "stream",
     "text": [
      "/home/kelcey/anaconda3/envs/hera/lib/python3.9/site-packages/pandas/core/computation/expressions.py:21: UserWarning: Pandas requires version '2.8.4' or newer of 'numexpr' (version '2.7.3' currently installed).\n",
      "  from pandas.core.computation.check import NUMEXPR_INSTALLED\n",
      "/home/kelcey/anaconda3/envs/hera/lib/python3.9/site-packages/pandas/core/arrays/masked.py:60: UserWarning: Pandas requires version '1.3.6' or newer of 'bottleneck' (version '1.3.2' currently installed).\n",
      "  from pandas.core import (\n"
     ]
    }
   ],
   "source": [
    "%load_ext autoreload\n",
    "%autoreload 2\n",
    "\n",
    "import sys\n",
    "\n",
    "#Load up Kelcey's personal functions\n",
    "sys.path.insert(0, \"/home/kelcey/eelg_properties/python_files\")\n",
    "from func import *\n",
    "\n",
    "#Imports from code I did not write\n",
    "import astropy.units as u\n",
    "import astropy.constants as c\n",
    "from astropy.coordinates import SkyCoord, search_around_sky\n",
    "from astropy.time import Time\n",
    "import numpy as np\n",
    "from scipy import stats\n",
    "import matplotlib.pyplot as plt\n",
    "import pandas as pd\n",
    "import glob\n",
    "%matplotlib inline\n",
    "from astropy.io import fits\n",
    "from itertools import combinations\n",
    "import pickle\n",
    "from astropy.cosmology import WMAP9 as cosmo\n",
    "import seaborn as sns\n",
    "from astropy.table import Table\n",
    "\n",
    "\n",
    "#Setting up matplotlib and format it\n",
    "plt.rcParams['figure.figsize'] = (10, 10)\n",
    "plt.rc('axes', labelsize=27)\n",
    "#plt.rc('axes', labelweight='bold')\n",
    "plt.rc('axes', titlesize=27)\n",
    "plt.rc('axes', titleweight='bold')\n",
    "plt.rc('font', family='sans-serif')\n",
    "plt.rcParams.update({'font.size': 20})"
   ]
  },
  {
   "cell_type": "markdown",
   "id": "05cc8911",
   "metadata": {},
   "source": [
    "# Notes 6/3 Software Carpentry"
   ]
  },
  {
   "cell_type": "markdown",
   "id": "7fcf3e00",
   "metadata": {},
   "source": []
  },
  {
   "cell_type": "markdown",
   "id": "8a2c21f9",
   "metadata": {},
   "source": []
  },
  {
   "cell_type": "code",
   "execution_count": null,
   "id": "ad1b2e76",
   "metadata": {},
   "outputs": [],
   "source": []
  }
 ],
 "metadata": {
  "kernelspec": {
   "display_name": "Python 3",
   "language": "python",
   "name": "python3"
  },
  "language_info": {
   "codemirror_mode": {
    "name": "ipython",
    "version": 3
   },
   "file_extension": ".py",
   "mimetype": "text/x-python",
   "name": "python",
   "nbconvert_exporter": "python",
   "pygments_lexer": "ipython3",
   "version": "3.9.6"
  }
 },
 "nbformat": 4,
 "nbformat_minor": 5
}
