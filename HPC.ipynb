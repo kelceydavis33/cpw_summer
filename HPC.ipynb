{
 "cells": [
  {
   "cell_type": "code",
   "execution_count": 1,
   "id": "51db2c9a",
   "metadata": {},
   "outputs": [
    {
     "name": "stderr",
     "output_type": "stream",
     "text": [
      "/home/kelcey/anaconda3/envs/hera/lib/python3.9/site-packages/pandas/core/computation/expressions.py:21: UserWarning: Pandas requires version '2.8.4' or newer of 'numexpr' (version '2.7.3' currently installed).\n",
      "  from pandas.core.computation.check import NUMEXPR_INSTALLED\n",
      "/home/kelcey/anaconda3/envs/hera/lib/python3.9/site-packages/pandas/core/arrays/masked.py:60: UserWarning: Pandas requires version '1.3.6' or newer of 'bottleneck' (version '1.3.2' currently installed).\n",
      "  from pandas.core import (\n"
     ]
    }
   ],
   "source": [
    "%load_ext autoreload\n",
    "%autoreload 2\n",
    "\n",
    "import sys\n",
    "\n",
    "#Load up Kelcey's personal functions\n",
    "sys.path.insert(0, \"/home/kelcey/eelg_properties/python_files\")\n",
    "from func import *\n",
    "\n",
    "#Imports from code I did not write\n",
    "import astropy.units as u\n",
    "import astropy.constants as c\n",
    "from astropy.coordinates import SkyCoord, search_around_sky\n",
    "from astropy.time import Time\n",
    "import numpy as np\n",
    "from scipy import stats\n",
    "import matplotlib.pyplot as plt\n",
    "import pandas as pd\n",
    "import glob\n",
    "%matplotlib inline\n",
    "from astropy.io import fits\n",
    "from itertools import combinations\n",
    "import pickle\n",
    "from astropy.cosmology import WMAP9 as cosmo\n",
    "import seaborn as sns\n",
    "from astropy.table import Table\n",
    "\n",
    "\n",
    "#Setting up matplotlib and format it\n",
    "plt.rcParams['figure.figsize'] = (10, 10)\n",
    "plt.rc('axes', labelsize=27)\n",
    "#plt.rc('axes', labelweight='bold')\n",
    "plt.rc('axes', titlesize=27)\n",
    "plt.rc('axes', titleweight='bold')\n",
    "plt.rc('font', family='sans-serif')\n",
    "plt.rcParams.update({'font.size': 20})"
   ]
  },
  {
   "cell_type": "markdown",
   "id": "05cc8911",
   "metadata": {},
   "source": [
    "# Notes 6/3\n",
    "\n",
    "HPC (high performance computing) at LANL \n",
    "\n",
    "Joel Kulesza, Monte Carlo Codes group with Monte Carlo work later\n",
    "\n",
    "tips, tools and commaand line approaches\n",
    "\n",
    "\n",
    "Overview\n",
    "\n",
    "\n",
    "- hybrid computing clusters: CPUs and GPUs; how do we adapt our algorithms to maximize what we get out?\n",
    "\n",
    "- GPU: lots of cores with simplistic opperations, simultaneous instruction, multiple data. Applied to images: loading all pixels onto GPU and blurring it much faster. Think things like diffusion. Higher fidelity algorithm requires more thought to adapt your algorithm. Monte Carlo is much different than image bluring but we can still adapt our code to \n",
    "\n",
    "- AMD vs NVIDEA, different ways to process information so different preferences for applications\n",
    "\n",
    "- Cache sizes: loading memory into caches and proximity to Si will determine how fast you can go \n",
    "\n",
    "- fit data into chache-sized bites to get better throughput. Otherwise, get cache-miss. Must think about processing architecture. Supercomputers have homogenous brandds and types to keep computing expectations consistent.\n",
    "\n",
    "- How do we move data through nodes in our computers? Move data as fully and quickly as we can but latency and bandwidth efffects processor power\n",
    "\n",
    "- Must balance speed and throughput of interconnects\n",
    "\n",
    "- Stan Ulonin late 1940s, estimations through random likelihood to determine average behavior. Needed a computer to run all the trials\n",
    "\n",
    "- 1970s: vector computing came in to fashion, see Cray machines\n",
    "\n",
    "- 90s: massively parallel, massive computers\n",
    "\n",
    "- 00s: cluster of computers as HPCs using many processors (assuming architecture homogenaity), limited by slowest processor\n",
    "\n",
    "- 08-now: hybrid clusters (see roadrunner, cielo...)\n",
    "\n",
    "- objective: get on one of the 500 fastest computer list the \"limpac benchmark\", not the best benchmark of performance but mesaures how well it can do just one calculation\n",
    "\n",
    "- Moore's law (Moore 1965) not speed of computing but density of available tranistors. Stagnation now as number of cores don't really go up\n",
    "\n",
    "- more cosmic rays here at high altitude, more false bit flips!\n",
    "\n",
    "- slowest processors define slowest calculations\n"
   ]
  },
  {
   "cell_type": "markdown",
   "id": "7fcf3e00",
   "metadata": {},
   "source": [
    "HPC Systems at LANL\n",
    "\n",
    "- hpc.lanl.gov for full LANL info. Click hand on keyboard image, get to info page\n",
    "\n",
    "- bottom of page: outage calender (very important!) usually on a Tuesday.\n",
    "\n",
    "- email consult@lanl.gov or call 505-665-4444 ext 3 for HPC help desk\n",
    "\n",
    "- we use Rocinante (don Quiote's hores, sci fi space ship?) runs Cray OS with 2GB memory/core\n",
    "\n",
    "- max of up to 40 nodes for 12 hours, request more hours than you need!\n",
    "\n",
    "- to get to yellow network:\n",
    "\n",
    "> ro -rfe.lanl.gov\n",
    "\n",
    "- Chicoma: similar in nature but a lot more compute power (4GB/core), ~9 petaFLOPS, unlimited nodes for 16 hours, but bigger request = longer wait time\n",
    "\n"
   ]
  },
  {
   "cell_type": "markdown",
   "id": "8a2c21f9",
   "metadata": {},
   "source": []
  },
  {
   "cell_type": "code",
   "execution_count": null,
   "id": "ad1b2e76",
   "metadata": {},
   "outputs": [],
   "source": []
  }
 ],
 "metadata": {
  "kernelspec": {
   "display_name": "Python 3",
   "language": "python",
   "name": "python3"
  },
  "language_info": {
   "codemirror_mode": {
    "name": "ipython",
    "version": 3
   },
   "file_extension": ".py",
   "mimetype": "text/x-python",
   "name": "python",
   "nbconvert_exporter": "python",
   "pygments_lexer": "ipython3",
   "version": "3.9.6"
  }
 },
 "nbformat": 4,
 "nbformat_minor": 5
}
