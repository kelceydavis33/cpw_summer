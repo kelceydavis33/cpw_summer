{
 "cells": [
  {
   "cell_type": "code",
   "execution_count": 1,
   "id": "51db2c9a",
   "metadata": {},
   "outputs": [
    {
     "name": "stderr",
     "output_type": "stream",
     "text": [
      "/home/kelcey/anaconda3/envs/hera/lib/python3.9/site-packages/pandas/core/computation/expressions.py:21: UserWarning: Pandas requires version '2.8.4' or newer of 'numexpr' (version '2.7.3' currently installed).\n",
      "  from pandas.core.computation.check import NUMEXPR_INSTALLED\n",
      "/home/kelcey/anaconda3/envs/hera/lib/python3.9/site-packages/pandas/core/arrays/masked.py:60: UserWarning: Pandas requires version '1.3.6' or newer of 'bottleneck' (version '1.3.2' currently installed).\n",
      "  from pandas.core import (\n"
     ]
    }
   ],
   "source": [
    "%load_ext autoreload\n",
    "%autoreload 2\n",
    "\n",
    "import sys\n",
    "\n",
    "#Load up Kelcey's personal functions\n",
    "sys.path.insert(0, \"/home/kelcey/eelg_properties/python_files\")\n",
    "from func import *\n",
    "\n",
    "#Imports from code I did not write\n",
    "import astropy.units as u\n",
    "import astropy.constants as c\n",
    "from astropy.coordinates import SkyCoord, search_around_sky\n",
    "from astropy.time import Time\n",
    "import numpy as np\n",
    "from scipy import stats\n",
    "import matplotlib.pyplot as plt\n",
    "import pandas as pd\n",
    "import glob\n",
    "%matplotlib inline\n",
    "from astropy.io import fits\n",
    "from itertools import combinations\n",
    "import pickle\n",
    "from astropy.cosmology import WMAP9 as cosmo\n",
    "import seaborn as sns\n",
    "from astropy.table import Table\n",
    "\n",
    "\n",
    "#Setting up matplotlib and format it\n",
    "plt.rcParams['figure.figsize'] = (10, 10)\n",
    "plt.rc('axes', labelsize=27)\n",
    "#plt.rc('axes', labelweight='bold')\n",
    "plt.rc('axes', titlesize=27)\n",
    "plt.rc('axes', titleweight='bold')\n",
    "plt.rc('font', family='sans-serif')\n",
    "plt.rcParams.update({'font.size': 20})"
   ]
  },
  {
   "cell_type": "markdown",
   "id": "05cc8911",
   "metadata": {},
   "source": [
    "# Notes 6/6\n",
    "\n",
    "## Introduction to Continuum Mechanics: JeeYeon Plohr\n",
    "---\n",
    "\n",
    "### what is a continuous medium?\n",
    "\n",
    "- lagrangian and eularian frames\n",
    "\n",
    "- ask shane for big probelms, mark or jemma for small problems\n",
    "\n",
    "- classical mechanics: spherical cow\n",
    "\n",
    "- atomic approach: particles\n",
    "\n",
    "- mesoscopic: grains, defects\n",
    "\n",
    "- assume continuous medium: state can be piecewise diffferentiable functions of space and time\n",
    "\n",
    "- lagrangian vs eualrean frmaews: difference in reference frames. If control volume (grid) is fixed, eularean. With lagrangian, frame of reference moves with particle\n",
    "\n",
    "- euler is more robust, euler frames follow balance laws\n",
    "\n",
    "- Reynold's transport theorum: take some quantity in euler volume, volume is moving and we need the time derrivative.\n",
    "\n",
    "$$ \\int_{\\Omega(t)}  y dV = \\int_{\\Omega (t)} \\frac{\\partial{y}}{\\partial{t}} dV + (closed integral)\\int_{\\partial \\Omega {t}} y u_b \\dot dA$$"
   ]
  },
  {
   "cell_type": "markdown",
   "id": "7fcf3e00",
   "metadata": {},
   "source": [
    "\n",
    "ALE: arbitratry lagrangian and eualrean\n",
    "\n",
    "$$ \\frac{dm}{dt} = \\dot{m}_{flow}$$"
   ]
  },
  {
   "cell_type": "markdown",
   "id": "3bc686c1",
   "metadata": {},
   "source": [
    "applying to energym we get:\n",
    "\n",
    "$$ \\frac{dP}{dt} = F \\dot{p}$$"
   ]
  },
  {
   "cell_type": "markdown",
   "id": "b536c8e6",
   "metadata": {},
   "source": [
    "- we can apply Reylond's transport theorum to lots of different probelms! like radiation sources, energy andd momentum conservations laws,....\n",
    "\n",
    "- constitutive relationL can we solve the system of conservation laws? Not when number of variables > number of equations. Example of constitutive relationships: ideal gas laws, \n",
    "\n",
    "- Riemann problem: conservation lows with initial conditions for 1D gas dynamics, possible solutions come from diffuse terms\n",
    "\n",
    "- in solid mechanics, stress tensors are helpful for solving this issue\n",
    "\n",
    "- JeeYeon reccoments Randall LeVeque Numerical Methods for Conservation Laws\n"
   ]
  },
  {
   "cell_type": "code",
   "execution_count": null,
   "id": "ad1b2e76",
   "metadata": {},
   "outputs": [],
   "source": []
  }
 ],
 "metadata": {
  "kernelspec": {
   "display_name": "Python 3",
   "language": "python",
   "name": "python3"
  },
  "language_info": {
   "codemirror_mode": {
    "name": "ipython",
    "version": 3
   },
   "file_extension": ".py",
   "mimetype": "text/x-python",
   "name": "python",
   "nbconvert_exporter": "python",
   "pygments_lexer": "ipython3",
   "version": "3.9.6"
  }
 },
 "nbformat": 4,
 "nbformat_minor": 5
}
